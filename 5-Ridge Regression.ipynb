{
 "cells": [
  {
   "cell_type": "markdown",
   "id": "f26dc616-3796-4dd5-aa71-4d6f653bd48d",
   "metadata": {},
   "source": [
    "# Ridge Regresyon"
   ]
  },
  {
   "cell_type": "markdown",
   "id": "5a9f0f09-e94e-4ae0-bef5-b529525b4b9f",
   "metadata": {
    "jupyter": {
     "source_hidden": true
    },
    "tags": []
   },
   "source": [
    "* Amaç hata kareler toplamını minimize eden katsayıları, bu katsayılara bir ceza uygulayarak bulmaktır.\n",
    "* öle katsayılar bulmalıyız ki hata mse, rmse değerleri mininmum olsun\n",
    "* çoklu doğrusal regresyondan farklı olarak katsayılara ceza uyguluyacağız.\n",
    "* Regularization Makine öğrenmesi modelinin varyansını düşürmek için kullanılan bir methotdur. \n",
    "* Regularization bir modelin toplam hata kareler değerini minimum yapabilmek için ceza değerinin ceza katsayısı olarak adlandırılan bir alpha değeri ile çarpılması ve modelin hata değeri ile toplanması işlemidir.\n",
    "* Genel olarak, önemli ölçüde büyük katsayılara sahip girdiler, tüm değişkenler benzer aralıklarda değerler aldığında model tahminlerini yönlendirme eğilimindedir.Önemli değişken gürültülüyse veya model verilere fazla uyuyorsa bu bir sorun haline gelir çünkü bu, model tahminlerinin ya gürültüden ya da değişken'deki önemsiz değişikliklerden kaynaklanmasına neden olur.\n",
    "\n",
    "* Çoklu doğrusal regresyon\n",
    "$SSE(hata kareler toplamı)= \\sum_{i=1}^{n}(y_{i} - {\\hat{y}_{i}})^{2}$\n",
    "\n",
    "* Ridge regresyon\n",
    "$SSE_{L_{2}}= \\sum_{i=1}^{n}(y_{i} - {\\hat{y}_{i}})^{2} + \\lambda \\sum_{j=1}^{P}\\beta _{j}^{^{2}}$\n",
    "\n",
    "* $\\lambda$ : ayar parametresi, yani kullanıcı tarafından verilen ve ayarlanan parametre\n",
    "\n",
    "* $\\sum_{j=1}^{P}\\beta _{j}^{^{2}}$ : ceza terimi\n",
    "\n",
    "* $_{L_{2}}$ : Düzenlileştirme (Regularization) Normu\n",
    "\n",
    "* aşırı öğrenmeye karşı dirençlidir\n",
    "\n",
    "* yanlıdır fakat varyans düşüktür (bazen yanlı modelleri daha çok tercih ederiz)\n",
    "* çok fazla parametre olduğunda EKK'ya göre  yani klasik regresyona göre daha iyidir\n",
    "* Değişken sayısı gözlem sayısından fazla olduğu (çok boyutluluk laneti p >n) durumlara karşı çözüm sunar \n",
    "* çoklu doğrusal bağlantı problemi olduğunda etkilidir. Yani bağımsız değişkenler arasında yüksek korelasyon olması demektir. Bir değişkenin taşıdığı bilgiyi neredeyse aynısını başka değişen de taşıyor. bu bir problemdiri korelasyon değerine bakılır.iki bağımsız değişken arasındaki korelasyon değeri %90 ise büyük ihtimalle bu iki bağımsız değişken arasında çoklu doğrusal bağlantı problemi olacağını gösterir\n",
    "* Tüm değişkenler ile model kurar. İlgisiz değişkenleri modelden çıkarmaz, katsayılarını sıfıra yaklaştırır \n",
    "**$\\lambda$**\n",
    "* $\\lambda$ kritik roldeddir. iki terimin (formüldeki) göreceli etkilerini kontrol etmeyi sağlar.Optimize edilmesi gerekn parametresidir.\n",
    "* $\\lambda$ için iyi bir değer bulunması önemlidir. Bunun için CV (cross validation) yöntemi kullanılır. \n",
    "* $\\lambda$'nın sıfır olduğu yer EKK(yani klasik regresyon)'dır. HKT(hata kareler toplamı-SSE) yi minimum yapan $\\lambda$'yı arıyoruz\n",
    "* $\\lambda$ için belirli değerleri içeren bir küme seçilir ve her birisi için cross validation test hatası hesaplanır\n",
    "* En küçük cross validation'ı veren $\\lambda$ ayar parametresi olarak seçilir\n",
    "* son olarak seçilen bu $\\lambda$ ile model yeniden tüm gözlemlere fit edilir\n",
    "* KAtsaılara uygulana şiddetin belirlenmesi bizim elimizde bu $\\lambda$  değeridir\n",
    "* Düzenlileştirme, bir Makine Öğrenimi modelinin varyansını azaltmak için kullanılan bir yöntemdir; başka bir deyişle, overfittingi azaltmak için kullanılır.\n",
    "* ridge regresyondaki katsayıları bizim belirlediiğimiz bir ceza değeri ile çarparak sıfır yapmamak fakat sıfıra yaklaştırma amacındayız. \n",
    "* tüm katsayıları modelde tutup, bu katsayıların modele olan etkilerini ayarlıyoruz\n",
    "* öle bir ceza değeri uyguluyoruz ki katsayılar benzer etkilerini önemlerine göre kaybetmiş oluyor\n",
    "* seçilecek olan lambdaya göre değişkenlerin görece etkilerini ayarlıyabilmiş oluyoruz, ama diyoruz ki bunlar modelde kalsın sıfıra yaklaşsın ama modelden komple çıkarmayalım demiş oluyoruz\n",
    "\n",
    "* SCALE işlemi\n",
    "* değişkenlerin ölçü birimlerinin katsayılar üzerindeki etkisini ortadan kaldırmak için değişkenleri ölçekleriz.\n",
    "* ridge model içerisinde normalization =True yapılarak scale işlemi gerçekleştirilebilir, fakat bu ilerde kaldırılacağı için bunun yerine model pipeline oluşturularak StandartScale ile birleştirilebilir ya d a aşağıdaki gibi önce standart scale sonrada model kurulabilir.\n",
    "\n",
    "* X test ve train versii Ridge modele koyulmadan önce değişkenlerin benzer arlıkta değer alması için normalleştirme (scale) işlemine tabi tutulması önerilir.\n",
    "* Test ve doğrulama seti, eğitim setinden öğrenilen ortalama ve standart sapmaya dayalı olarak standardize edilmelidir.\n",
    "* sklearn.preprocessing.StandardScaler() girdileri standartlaştırmak için kullanılabilir. fit() fonksiyonunun çağrılması, eğitim setinin ortalamasını ve standart sapmasını hesaplar. Ardından, aynı fit() nesnesi eğitim, doğrulama ve test setlerini dönüştürmek için kullanılır."
   ]
  },
  {
   "cell_type": "code",
   "execution_count": 1,
   "id": "1e4562e6-b6c3-4580-a8a5-bbd92bc6d863",
   "metadata": {},
   "outputs": [],
   "source": [
    "import numpy as np\n",
    "import pandas as pd \n",
    "import seaborn as sns\n",
    "import matplotlib.pyplot as plt\n",
    "\n",
    "from sklearn.model_selection import train_test_split, cross_val_predict, cross_val_score, KFold\n",
    "from sklearn.preprocessing import StandardScaler,scale\n",
    "\n",
    "from sklearn.linear_model import Ridge, RidgeCV\n",
    "\n",
    "from sklearn.metrics import mean_squared_error, r2_score"
   ]
  },
  {
   "cell_type": "code",
   "execution_count": 2,
   "id": "f7cc4bb8-d730-467b-b16b-3cb2e376aedd",
   "metadata": {},
   "outputs": [],
   "source": [
    "hit = pd.read_csv(\"./dataset/hitters.csv\")\n",
    "df = hit.copy()\n",
    "df = df.dropna()\n",
    "dms = pd.get_dummies(df[[\"League\", \"Division\", \"NewLeague\"]])\n",
    "y = df[\"Salary\"]\n",
    "X_ = df.drop([\"League\", \"Division\", \"NewLeague\", \"Salary\"], axis = 1)\n",
    "X = pd.concat([X_,dms[[\"League_N\",\"Division_W\",\"NewLeague_N\"]]], axis = 1)\n",
    "X_train,X_test,y_train,y_test = train_test_split(X, y, test_size = 0.25, random_state = 42)"
   ]
  },
  {
   "cell_type": "markdown",
   "id": "f79841cf-4869-4628-9af8-07a22878006c",
   "metadata": {},
   "source": [
    "---------------"
   ]
  },
  {
   "cell_type": "markdown",
   "id": "9d86be9c-bc0c-40e3-a427-019d8b7e2788",
   "metadata": {
    "tags": []
   },
   "source": [
    "### Model"
   ]
  },
  {
   "cell_type": "code",
   "execution_count": 3,
   "id": "03a8fbd7-03b3-4ced-b80c-d99275523f48",
   "metadata": {},
   "outputs": [],
   "source": [
    "ridge_model = Ridge().fit(X_train,y_train)"
   ]
  },
  {
   "cell_type": "code",
   "execution_count": 4,
   "id": "3a45bb11-dc8a-4ce4-9733-b6acd4f24719",
   "metadata": {},
   "outputs": [
    {
     "data": {
      "text/plain": [
       "{'alpha': 1.0,\n",
       " 'copy_X': True,\n",
       " 'fit_intercept': True,\n",
       " 'max_iter': None,\n",
       " 'normalize': 'deprecated',\n",
       " 'positive': False,\n",
       " 'random_state': None,\n",
       " 'solver': 'auto',\n",
       " 'tol': 0.001}"
      ]
     },
     "execution_count": 4,
     "metadata": {},
     "output_type": "execute_result"
    }
   ],
   "source": [
    "ridge_model.get_params()"
   ]
  },
  {
   "cell_type": "code",
   "execution_count": 5,
   "id": "783a0679-496e-4be6-add7-34a8507feb0e",
   "metadata": {},
   "outputs": [
    {
     "data": {
      "text/plain": [
       "array([ -1.7833362 ,   8.82281559,   7.26631498,  -3.33050119,\n",
       "        -2.07091307,   5.42111154,   7.50977607,  -0.13557983,\n",
       "        -0.21962511,  -0.63033482,   1.7974231 ,   0.73919181,\n",
       "        -0.68443562,   0.26159973,   0.26762087,  -0.48054311,\n",
       "       102.20055186, -97.88649765, -38.9216579 ])"
      ]
     },
     "execution_count": 5,
     "metadata": {},
     "output_type": "execute_result"
    }
   ],
   "source": [
    "ridge_model.coef_"
   ]
  },
  {
   "cell_type": "markdown",
   "id": "06f2667e-10cd-4926-aa37-4c696cc018a8",
   "metadata": {},
   "source": [
    "### lambdalar için döngü "
   ]
  },
  {
   "cell_type": "markdown",
   "id": "342f07c6-bcaa-43d7-accf-5444bcb01629",
   "metadata": {},
   "source": [
    "#### numpy.linespace\n",
    "numpy.linspace(start, stop, num = 50, endpoint = True,retstep = False,dtype = None)\n",
    "\n",
    "**Parameters :**\n",
    "-> start  : [optional] start of interval range. By default start = 0\n",
    "-> stop   : end of interval range\n",
    "-> restep : If True, return (samples, step). By default restep = False\n",
    "-> num    : [int, optional] No. of samples to generate\n",
    "-> dtype  : type of output array\n",
    "\n",
    "**Return** : \n",
    "-> ndarray\n",
    "-> step : [float, optional], if restep = True"
   ]
  },
  {
   "cell_type": "markdown",
   "id": "f734f57b-a26d-4210-a682-98c26714afe5",
   "metadata": {},
   "source": [
    "### katsayıların gözlenmesi"
   ]
  },
  {
   "cell_type": "code",
   "execution_count": 6,
   "id": "63effe60-2e5b-4810-ae84-24ec65b654df",
   "metadata": {},
   "outputs": [
    {
     "data": {
      "text/plain": [
       "Text(0.5, 1.0, 'Düzenlileştirmenin Bir Fonksiyonu Olarak Ridge Katsayıları')"
      ]
     },
     "execution_count": 6,
     "metadata": {},
     "output_type": "execute_result"
    },
    {
     "data": {
      "image/png": "[encoded data removed]",
      "text/plain": [
       "<Figure size 640x480 with 1 Axes>"
      ]
     },
     "metadata": {},
     "output_type": "display_data"
    }
   ],
   "source": [
    "lambdalar = 10**np.round(np.linspace(10,-2,100)*0.5, 3)\n",
    "\n",
    "ridge_model = Ridge()\n",
    "katsayilar = []\n",
    "\n",
    "for i in lambdalar:\n",
    "    ridge_model.set_params(alpha = i)\n",
    "    ridge_model.fit(X_train,y_train)\n",
    "    katsayilar.append(ridge_model.coef_)\n",
    "    \n",
    "ax = plt.gca()\n",
    "ax.plot(lambdalar, katsayilar)\n",
    "# logaritmik bakış\n",
    "ax.set_xscale(\"log\")\n",
    "\n",
    "\n",
    "plt.xlabel(\"Lambda(Alpha) Değerleri\")\n",
    "plt.ylabel(\"Katsayılar/Ağırlıklar\")\n",
    "plt.title(\"Düzenlileştirmenin Bir Fonksiyonu Olarak Ridge Katsayıları\")"
   ]
  },
  {
   "cell_type": "markdown",
   "id": "2d9827d9-4d64-4f52-9bdd-e126d9e9057a",
   "metadata": {},
   "source": [
    "---------------"
   ]
  },
  {
   "cell_type": "markdown",
   "id": "7614708e-16e8-4c04-9c02-b3f090e7103d",
   "metadata": {},
   "source": [
    "### Tahmin"
   ]
  },
  {
   "cell_type": "code",
   "execution_count": 7,
   "id": "c101bc1d-630f-4e9c-8fb7-47f58d07d52e",
   "metadata": {},
   "outputs": [],
   "source": [
    "y_pred = ridge_model.predict(X_test)"
   ]
  },
  {
   "cell_type": "code",
   "execution_count": 8,
   "id": "dd7e2ca2-c994-4777-99e5-db06ed677133",
   "metadata": {},
   "outputs": [
    {
     "name": "stdout",
     "output_type": "stream",
     "text": [
      "Test RMSE Error: 357.0239252607659\n"
     ]
    }
   ],
   "source": [
    "# Test Error - RMSE\n",
    "print(\"Test RMSE Error:\",mean_squared_error(y_test,y_pred, squared=False))"
   ]
  },
  {
   "cell_type": "code",
   "execution_count": 9,
   "id": "134a284c-1c1f-496d-9141-8af8543b1dd2",
   "metadata": {},
   "outputs": [
    {
     "name": "stdout",
     "output_type": "stream",
     "text": [
      "Test R2 Score: 0.41117641357955925\n"
     ]
    }
   ],
   "source": [
    "# Test r2_score\n",
    "print(\"Test R2 Score:\", r2_score(y_test,y_pred))"
   ]
  },
  {
   "cell_type": "markdown",
   "id": "b24b80c6-54c2-49e5-9618-72864a850ede",
   "metadata": {},
   "source": [
    "---------------"
   ]
  },
  {
   "cell_type": "markdown",
   "id": "04cb2132-5306-4136-a16d-a0ed672cd2db",
   "metadata": {},
   "source": [
    "### Model Tunning"
   ]
  },
  {
   "cell_type": "code",
   "execution_count": 12,
   "id": "15491fb0-6968-46e0-82ae-67b3ab1ca7c4",
   "metadata": {},
   "outputs": [
    {
     "name": "stdout",
     "output_type": "stream",
     "text": [
      "alpha: 0.7046930689671469\n"
     ]
    },
    {
     "name": "stderr",
     "output_type": "stream",
     "text": [
      "C:\\Users\\hakan.saritas\\Anaconda3\\lib\\site-packages\\sklearn\\linear_model\\_base.py:141: FutureWarning: 'normalize' was deprecated in version 1.0 and will be removed in 1.2.\n",
      "If you wish to scale the data, use Pipeline with a StandardScaler in a preprocessing stage. To reproduce the previous behavior:\n",
      "\n",
      "from sklearn.pipeline import make_pipeline\n",
      "\n",
      "model = make_pipeline(StandardScaler(with_mean=False), _RidgeGCV())\n",
      "\n",
      "If you wish to pass a sample_weight parameter, you need to pass it as a fit parameter to each step of the pipeline as follows:\n",
      "\n",
      "kwargs = {s[0] + '__sample_weight': sample_weight for s in model.steps}\n",
      "model.fit(X, y, **kwargs)\n",
      "\n",
      "\n",
      "  warnings.warn(\n",
      "C:\\Users\\hakan.saritas\\Anaconda3\\lib\\site-packages\\sklearn\\linear_model\\_base.py:141: FutureWarning: 'normalize' was deprecated in version 1.0 and will be removed in 1.2.\n",
      "If you wish to scale the data, use Pipeline with a StandardScaler in a preprocessing stage. To reproduce the previous behavior:\n",
      "\n",
      "from sklearn.pipeline import make_pipeline\n",
      "\n",
      "model = make_pipeline(StandardScaler(with_mean=False), Ridge())\n",
      "\n",
      "If you wish to pass a sample_weight parameter, you need to pass it as a fit parameter to each step of the pipeline as follows:\n",
      "\n",
      "kwargs = {s[0] + '__sample_weight': sample_weight for s in model.steps}\n",
      "model.fit(X, y, **kwargs)\n",
      "\n",
      "Set parameter alpha to: original_alpha * n_samples. \n",
      "  warnings.warn(\n"
     ]
    },
    {
     "data": {
      "text/plain": [
       "386.51802649744565"
      ]
     },
     "execution_count": 12,
     "metadata": {},
     "output_type": "execute_result"
    }
   ],
   "source": [
    "# verilen alha değerie göre, hata kareler değerini sıfıra en çok yaklaştırıan alpha değerinin bulunması \n",
    "# ve model olarak bu değerin kullanılması\n",
    "# normalize = veriyi scaler ile normalleştirme uygulansın mı sorusudur\n",
    "\n",
    "# ridge_cv adında RidgeCV sınıfı üzerinden içinde aplha değerlerini barındırabilen bir model nesnesi oluştur\n",
    "ridge_cv = RidgeCV(alphas = lambdalar, scoring = \"neg_mean_squared_error\", normalize = True)\n",
    "\n",
    "ridge_cv.fit(X_train,y_train)\n",
    "\n",
    "print(\"alpha:\",ridge_cv.alpha_)\n",
    "\n",
    "riged_tuned = Ridge(alpha = ridge_cv.alpha_,normalize = True).fit(X_train, y_train)\n",
    "\n",
    "mean_squared_error(y_test,riged_tuned.predict(X_test), squared = False)"
   ]
  },
  {
   "cell_type": "code",
   "execution_count": 11,
   "id": "944c58e8-b330-4609-b2bb-9cad5b1668a5",
   "metadata": {},
   "outputs": [
    {
     "data": {
      "text/plain": [
       "Pipeline(steps=[('standardscaler', StandardScaler(with_mean=False)),\n",
       "                ('ridgecv',\n",
       "                 RidgeCV(alphas=array([1.00000000e+05, 8.68960429e+04, 7.56832895e+04, 6.57657837e+04,\n",
       "       5.72796031e+04, 4.97737085e+04, 4.32513831e+04, 3.76703799e+04,\n",
       "       3.27340695e+04, 2.85101827e+04, 2.47742206e+04, 2.15278173e+04,\n",
       "       1.87499451e+04, 1.62929603e+04, 1.41905752e+04, 1.23310483e+04,\n",
       "       1.07151931...\n",
       "       2.47742206e+00, 2.15278173e+00, 1.87499451e+00, 1.62929603e+00,\n",
       "       1.41905752e+00, 1.23310483e+00, 1.07151931e+00, 9.33254301e-01,\n",
       "       8.10961058e-01, 7.04693069e-01, 6.13762005e-01, 5.33334895e-01,\n",
       "       4.64515275e-01, 4.03645393e-01, 3.50751874e-01, 3.05492111e-01,\n",
       "       2.65460556e-01, 2.31206479e-01, 2.00909281e-01, 1.74582215e-01,\n",
       "       1.52054753e-01, 1.32129563e-01, 1.15080039e-01, 1.00000000e-01]),\n",
       "                         scoring='neg_mean_squared_error'))])"
      ]
     },
     "execution_count": 11,
     "metadata": {},
     "output_type": "execute_result"
    }
   ],
   "source": [
    "# yukardaki işlemde ileride RidgeCV içinden normalize argümanı kalkacağı için yerine \n",
    "# aşağıdaki gibi kullanım yapılmasının gerekli olacağı vurgulanıyor \n",
    "from sklearn.pipeline import make_pipeline\n",
    "\n",
    "ridge_cv_new = make_pipeline(StandardScaler(with_mean=False),\n",
    "                            RidgeCV(alphas = lambdalar, scoring = \"neg_mean_squared_error\"))\n",
    "\n",
    "# modeli X_train ve y_traine göre fit ediyoruz, kaydediyoruz\n",
    "ridge_cv_new.fit(X_train,y_train)"
   ]
  },
  {
   "cell_type": "code",
   "execution_count": 14,
   "id": "a20ce794-66b7-48b9-af2c-ed0f602fb9df",
   "metadata": {},
   "outputs": [
    {
     "data": {
      "text/plain": [
       "array([ 624.20088495,  684.129164  ,  909.48185991,  417.7361606 ,\n",
       "        546.70738741,  348.12075676,  611.96800346,  432.00770271,\n",
       "        890.67281585,  662.3068746 ,  643.5459695 ,  967.87240744,\n",
       "        601.24366465,  506.27330079,  334.84468593,  740.39712073,\n",
       "        769.58315049,  108.21527675,  850.45284583,  410.91189996,\n",
       "        446.53877547,  721.51259539,  613.99670196,  493.0554482 ,\n",
       "        720.69066706,  138.61009069,  851.40402584,  325.74205243,\n",
       "        640.88059823,   64.53193984,  194.57787551,   16.94369162,\n",
       "        377.43153281,  510.09096588,  288.47272759,  734.20045858,\n",
       "       1212.98660607,  305.82630417,  112.21382459,  288.72443054,\n",
       "         58.40303706,  367.90114477,  507.50505947,  507.13024422,\n",
       "        942.49668334,  714.73065043,  495.95555714,  357.46180031,\n",
       "        335.5645334 ,  681.11069555,  741.23097788,  369.45476482,\n",
       "        651.42724488,  323.58772457,  300.59164078,  694.92286846,\n",
       "        569.58806458,  766.70251607,  147.70105042, 1178.18808388,\n",
       "       1257.54524223,  559.8636994 ,  749.03941819,  449.26596759,\n",
       "        616.01048374,  211.12019276])"
      ]
     },
     "execution_count": 14,
     "metadata": {},
     "output_type": "execute_result"
    }
   ],
   "source": [
    "ridge_cv_new.predict(X_test)"
   ]
  },
  {
   "cell_type": "code",
   "execution_count": 15,
   "id": "d71e3c28-53c2-4d50-b071-0a8853f819e2",
   "metadata": {},
   "outputs": [
    {
     "data": {
      "text/plain": [
       "7677.412833162885"
      ]
     },
     "execution_count": 15,
     "metadata": {},
     "output_type": "execute_result"
    }
   ],
   "source": [
    "ridge_cv_new[\"ridgecv\"].alphas.mean()"
   ]
  },
  {
   "cell_type": "code",
   "execution_count": 16,
   "id": "807b77cb-c6a2-468e-b11e-e3392f76716f",
   "metadata": {},
   "outputs": [
    {
     "data": {
      "text/plain": [
       "386.5663673789541"
      ]
     },
     "execution_count": 16,
     "metadata": {},
     "output_type": "execute_result"
    }
   ],
   "source": [
    "mean_squared_error(y_test,ridge_cv_new.predict(X_test), squared = False)"
   ]
  },
  {
   "cell_type": "markdown",
   "id": "5b733ff0-3d62-4c4d-adf4-4a710fdaa555",
   "metadata": {},
   "source": [
    "-----------------------"
   ]
  },
  {
   "cell_type": "code",
   "execution_count": 20,
   "id": "542de776-6cec-4e59-8af0-da055f84869c",
   "metadata": {},
   "outputs": [],
   "source": [
    "import numpy as np\n",
    "import pandas as pd \n",
    "import seaborn as sns\n",
    "import matplotlib.pyplot as plt\n",
    "\n",
    "from sklearn.model_selection import train_test_split, cross_val_predict, cross_val_score, KFold\n",
    "from sklearn.preprocessing import StandardScaler,scale,PolynomialFeatures\n",
    "\n",
    "from sklearn.linear_model import LinearRegression\n",
    "from sklearn.linear_model import Ridge, RidgeCV\n",
    "\n",
    "from sklearn.metrics import mean_squared_error, r2_score"
   ]
  },
  {
   "cell_type": "code",
   "execution_count": 21,
   "id": "3c362d7a-b36a-468f-aee8-7001cc3da5e3",
   "metadata": {},
   "outputs": [],
   "source": [
    "hit = pd.read_csv(\"./dataset/hitters.csv\")\n",
    "df = hit.copy()\n",
    "df = df.dropna()\n",
    "dms = pd.get_dummies(df[[\"League\", \"Division\", \"NewLeague\"]])\n",
    "y = df[\"Salary\"]\n",
    "X_ = df.drop([\"League\", \"Division\", \"NewLeague\", \"Salary\"], axis = 1)\n",
    "X = pd.concat([X_,dms[[\"League_N\",\"Division_W\",\"NewLeague_N\"]]], axis = 1)\n",
    "X_train,X_test,y_train,y_test = train_test_split(X, y, test_size = 0.25, random_state = 42)"
   ]
  },
  {
   "cell_type": "code",
   "execution_count": 22,
   "id": "a759ccbf-f7c7-4e95-94f0-48bb96670170",
   "metadata": {},
   "outputs": [
    {
     "data": {
      "text/plain": [
       "356.80829057302327"
      ]
     },
     "execution_count": 22,
     "metadata": {},
     "output_type": "execute_result"
    }
   ],
   "source": [
    "# scale yapmadan \n",
    "\n",
    "model = Ridge()\n",
    "model.fit(X_train,y_train)\n",
    "y_pred = model.predict(X_test)\n",
    "\n",
    "mean_squared_error(y_test,y_pred, squared=False)"
   ]
  },
  {
   "cell_type": "code",
   "execution_count": 23,
   "id": "02fab57f-2c16-4f23-85ae-6f238d96d02e",
   "metadata": {},
   "outputs": [
    {
     "data": {
      "text/plain": [
       "array([ -1.7833362 ,   8.82281559,   7.26631498,  -3.33050119,\n",
       "        -2.07091307,   5.42111154,   7.50977607,  -0.13557983,\n",
       "        -0.21962511,  -0.63033482,   1.7974231 ,   0.73919181,\n",
       "        -0.68443562,   0.26159973,   0.26762087,  -0.48054311,\n",
       "       102.20055186, -97.88649765, -38.9216579 ])"
      ]
     },
     "execution_count": 23,
     "metadata": {},
     "output_type": "execute_result"
    }
   ],
   "source": [
    "model.coef_"
   ]
  },
  {
   "cell_type": "code",
   "execution_count": 24,
   "id": "159d8377-e682-49e6-b34a-e146b4f3a5fe",
   "metadata": {},
   "outputs": [
    {
     "data": {
      "text/plain": [
       "358.9753135890261"
      ]
     },
     "execution_count": 24,
     "metadata": {},
     "output_type": "execute_result"
    }
   ],
   "source": [
    "# scale yaparak\n",
    "\n",
    "scaler = StandardScaler().fit(X_train)\n",
    "X_train_scaled = scaler.transform(X_train)\n",
    "X_test_scaled = scaler.transform(X_test)\n",
    "\n",
    "model = Ridge()\n",
    "model.fit(X_train_scaled,y_train)\n",
    "y_pred = model.predict(X_test_scaled)\n",
    "\n",
    "mean_squared_error(y_test,y_pred, squared=False)"
   ]
  },
  {
   "cell_type": "code",
   "execution_count": 25,
   "id": "d665dd5e-fa5c-45f6-bbf4-b311dc6b8bf3",
   "metadata": {},
   "outputs": [
    {
     "data": {
      "text/plain": [
       "array([-213.66590499,  312.57620637,   44.9101692 ,  -36.00413765,\n",
       "        -35.1764245 ,   96.902419  ,   13.89846004, -177.51358593,\n",
       "         55.124277  ,   29.90685758,  316.70012219,   84.16598195,\n",
       "       -118.29621312,   80.96384136,   31.47052596,  -10.13431301,\n",
       "         52.07080704,  -53.04316922,  -22.66571095])"
      ]
     },
     "execution_count": 25,
     "metadata": {},
     "output_type": "execute_result"
    }
   ],
   "source": [
    "model.coef_"
   ]
  },
  {
   "cell_type": "markdown",
   "id": "76948153-bd4a-429e-a817-9908ad153a70",
   "metadata": {},
   "source": [
    "----------------------"
   ]
  },
  {
   "cell_type": "code",
   "execution_count": 26,
   "id": "d1f50c7f-cd7f-4c99-8bcb-f5d1f08ade1a",
   "metadata": {},
   "outputs": [
    {
     "data": {
      "text/plain": [
       "RidgeCV(alphas=array([ 0.01, 10.  , 10.  ]), scoring='neg_mean_squared_error')"
      ]
     },
     "execution_count": 26,
     "metadata": {},
     "output_type": "execute_result"
    }
   ],
   "source": [
    "# En iyi alpha değerine göre model oluşturma\n",
    "\n",
    "ridge_cv = RidgeCV(alphas = (0.01,10, 10), scoring = \"neg_mean_squared_error\")\n",
    "\n",
    "ridge_cv.fit(X_train,y_train)"
   ]
  },
  {
   "cell_type": "code",
   "execution_count": 27,
   "id": "a3430dde-5d38-4b51-b3bb-e5a056194472",
   "metadata": {},
   "outputs": [
    {
     "data": {
      "text/plain": [
       "356.3054852721753"
      ]
     },
     "execution_count": 27,
     "metadata": {},
     "output_type": "execute_result"
    }
   ],
   "source": [
    "# Scale yapılmamış veri \n",
    "riged_tuned = Ridge(alpha = ridge_cv.alpha_).fit(X_train, y_train)\n",
    "\n",
    "y_pred_tuned = riged_tuned.predict(X_test)\n",
    "\n",
    "mean_squared_error(y_test, y_pred_tuned, squared = False)"
   ]
  },
  {
   "cell_type": "code",
   "execution_count": 28,
   "id": "9ef5d0fc-8bdf-48e2-aab8-673c7c742b02",
   "metadata": {},
   "outputs": [
    {
     "data": {
      "text/plain": [
       "372.5165966006044"
      ]
     },
     "execution_count": 28,
     "metadata": {},
     "output_type": "execute_result"
    }
   ],
   "source": [
    "# Scale yapılmış veri\n",
    "ridge_cv.fit(X_train_scaled,y_train)\n",
    "\n",
    "riged_tuned = Ridge(alpha = ridge_cv.alpha_).fit(X_train_scaled, y_train)\n",
    "\n",
    "y_pred_tuned = riged_tuned.predict(X_test_scaled)\n",
    "\n",
    "mean_squared_error(y_test,y_pred_tuned, squared = False)"
   ]
  },
  {
   "cell_type": "markdown",
   "id": "c35e188b-e589-45f7-80e1-cf60e5d1aba6",
   "metadata": {},
   "source": [
    "----------"
   ]
  },
  {
   "cell_type": "code",
   "execution_count": 68,
   "id": "8b4ccd37-02ef-4e49-9bfe-36fa29db7397",
   "metadata": {},
   "outputs": [
    {
     "data": {
      "text/plain": [
       "Text(0.5, 1.0, 'Düzenlileştirmenin Bir Fonksiyonu Olarak Ridge Katsayıları')"
      ]
     },
     "execution_count": 68,
     "metadata": {},
     "output_type": "execute_result"
    },
    {
     "data": {
      "image/png": "[encoded data removed]",
      "text/plain": [
       "<Figure size 640x480 with 1 Axes>"
      ]
     },
     "metadata": {},
     "output_type": "display_data"
    }
   ],
   "source": [
    "lambdalar = np.round(np.linspace(0.01,10,10), 3)\n",
    "\n",
    "scaler = StandardScaler().fit(X_train)\n",
    "X_train_scaled = scaler.transform(X_train)\n",
    "X_test_scaled = scaler.transform(X_test)\n",
    "\n",
    "ridge_model = Ridge()\n",
    "katsayilar = []\n",
    "\n",
    "for i in lambdalar:\n",
    "    ridge_model.set_params(alpha = i)\n",
    "    ridge_model.fit(X_train_scaled,y_train)\n",
    "    y_pred_tuned = model.predict(X_test_scaled)\n",
    "    katsayilar.append(ridge_model.coef_)\n",
    "    \n",
    "ax = plt.gca()\n",
    "ax.plot(lambdalar, katsayilar)\n",
    "ax.axhline(y=0, color='black', linestyle='--')\n",
    "# logaritmik bakış\n",
    "ax.set_xscale(\"log\")\n",
    "ax.grid(True)\n",
    "\n",
    "\n",
    "plt.xlabel(\"Lambda(Alpha) Değerleri\")\n",
    "plt.ylabel(\"Katsayılar/Ağırlıklar\")\n",
    "plt.title(\"Düzenlileştirmenin Bir Fonksiyonu Olarak Ridge Katsayıları\")"
   ]
  },
  {
   "cell_type": "markdown",
   "id": "a3ef4e81-87d4-4026-a4e3-2ffc43d48974",
   "metadata": {},
   "source": [
    "----------"
   ]
  },
  {
   "cell_type": "markdown",
   "id": "9c476374-dd86-4621-ae36-85aa592792a5",
   "metadata": {},
   "source": [
    "### sklearn den veri seti yükleme"
   ]
  },
  {
   "cell_type": "code",
   "execution_count": 73,
   "id": "aa3095f2-6efb-4c6a-9c82-a2a7c91c2e6f",
   "metadata": {},
   "outputs": [],
   "source": [
    "# load_boston - url den veri seti yükleme\n",
    "\n",
    "data_url = \"http://lib.stat.cmu.edu/datasets/boston\"\n",
    "\n",
    "raw_df = pd.read_csv(data_url, sep=\"\\s+\", skiprows=22, header=None)\n",
    "\n",
    "data = np.hstack([raw_df.values[::2, :], raw_df.values[1::2, :2]])\n",
    "target = raw_df.values[1::2, 2]"
   ]
  },
  {
   "cell_type": "markdown",
   "id": "bfc24c9a-b752-49cb-91a7-73b15097ac77",
   "metadata": {},
   "source": [
    "---------"
   ]
  },
  {
   "cell_type": "code",
   "execution_count": 76,
   "id": "f3ee8395-d670-4e31-bae9-c7aab9a9069f",
   "metadata": {},
   "outputs": [],
   "source": [
    "# sklearnden veri seti yükleme openml\n",
    "from sklearn.datasets import fetch_openml\n",
    "\n",
    "housing = fetch_openml(name=\"house_prices\", as_frame=True)"
   ]
  },
  {
   "cell_type": "code",
   "execution_count": 81,
   "id": "5a42d292-9350-4cbd-bbf0-4be9602ad48f",
   "metadata": {},
   "outputs": [
    {
     "data": {
      "text/plain": [
       "sklearn.utils._bunch.Bunch"
      ]
     },
     "execution_count": 81,
     "metadata": {},
     "output_type": "execute_result"
    }
   ],
   "source": [
    "type(housing)"
   ]
  },
  {
   "cell_type": "markdown",
   "id": "54142d92-e4d4-46ce-ab8e-10a3e27cd4a2",
   "metadata": {},
   "source": [
    "-----------"
   ]
  },
  {
   "cell_type": "code",
   "execution_count": 83,
   "id": "157c7642-2b33-403a-9564-63866a0b621f",
   "metadata": {},
   "outputs": [],
   "source": [
    "from sklearn.datasets import fetch_california_housing\n",
    "\n",
    "housing = fetch_california_housing()"
   ]
  },
  {
   "cell_type": "code",
   "execution_count": 90,
   "id": "e52741b7-75c4-4d7a-8e6f-10d4fd2cacf1",
   "metadata": {},
   "outputs": [
    {
     "data": {
      "text/html": [
       "<div>\n",
       "<style scoped>\n",
       "    .dataframe tbody tr th:only-of-type {\n",
       "        vertical-align: middle;\n",
       "    }\n",
       "\n",
       "    .dataframe tbody tr th {\n",
       "        vertical-align: top;\n",
       "    }\n",
       "\n",
       "    .dataframe thead th {\n",
       "        text-align: right;\n",
       "    }\n",
       "</style>\n",
       "<table border=\"1\" class=\"dataframe\">\n",
       "  <thead>\n",
       "    <tr style=\"text-align: right;\">\n",
       "      <th></th>\n",
       "      <th>0</th>\n",
       "      <th>1</th>\n",
       "      <th>2</th>\n",
       "      <th>3</th>\n",
       "      <th>4</th>\n",
       "      <th>5</th>\n",
       "      <th>6</th>\n",
       "      <th>7</th>\n",
       "    </tr>\n",
       "  </thead>\n",
       "  <tbody>\n",
       "    <tr>\n",
       "      <th>0</th>\n",
       "      <td>8.3252</td>\n",
       "      <td>41.0</td>\n",
       "      <td>6.984127</td>\n",
       "      <td>1.023810</td>\n",
       "      <td>322.0</td>\n",
       "      <td>2.555556</td>\n",
       "      <td>37.88</td>\n",
       "      <td>-122.23</td>\n",
       "    </tr>\n",
       "    <tr>\n",
       "      <th>1</th>\n",
       "      <td>8.3014</td>\n",
       "      <td>21.0</td>\n",
       "      <td>6.238137</td>\n",
       "      <td>0.971880</td>\n",
       "      <td>2401.0</td>\n",
       "      <td>2.109842</td>\n",
       "      <td>37.86</td>\n",
       "      <td>-122.22</td>\n",
       "    </tr>\n",
       "    <tr>\n",
       "      <th>2</th>\n",
       "      <td>7.2574</td>\n",
       "      <td>52.0</td>\n",
       "      <td>8.288136</td>\n",
       "      <td>1.073446</td>\n",
       "      <td>496.0</td>\n",
       "      <td>2.802260</td>\n",
       "      <td>37.85</td>\n",
       "      <td>-122.24</td>\n",
       "    </tr>\n",
       "    <tr>\n",
       "      <th>3</th>\n",
       "      <td>5.6431</td>\n",
       "      <td>52.0</td>\n",
       "      <td>5.817352</td>\n",
       "      <td>1.073059</td>\n",
       "      <td>558.0</td>\n",
       "      <td>2.547945</td>\n",
       "      <td>37.85</td>\n",
       "      <td>-122.25</td>\n",
       "    </tr>\n",
       "    <tr>\n",
       "      <th>4</th>\n",
       "      <td>3.8462</td>\n",
       "      <td>52.0</td>\n",
       "      <td>6.281853</td>\n",
       "      <td>1.081081</td>\n",
       "      <td>565.0</td>\n",
       "      <td>2.181467</td>\n",
       "      <td>37.85</td>\n",
       "      <td>-122.25</td>\n",
       "    </tr>\n",
       "    <tr>\n",
       "      <th>...</th>\n",
       "      <td>...</td>\n",
       "      <td>...</td>\n",
       "      <td>...</td>\n",
       "      <td>...</td>\n",
       "      <td>...</td>\n",
       "      <td>...</td>\n",
       "      <td>...</td>\n",
       "      <td>...</td>\n",
       "    </tr>\n",
       "    <tr>\n",
       "      <th>20635</th>\n",
       "      <td>1.5603</td>\n",
       "      <td>25.0</td>\n",
       "      <td>5.045455</td>\n",
       "      <td>1.133333</td>\n",
       "      <td>845.0</td>\n",
       "      <td>2.560606</td>\n",
       "      <td>39.48</td>\n",
       "      <td>-121.09</td>\n",
       "    </tr>\n",
       "    <tr>\n",
       "      <th>20636</th>\n",
       "      <td>2.5568</td>\n",
       "      <td>18.0</td>\n",
       "      <td>6.114035</td>\n",
       "      <td>1.315789</td>\n",
       "      <td>356.0</td>\n",
       "      <td>3.122807</td>\n",
       "      <td>39.49</td>\n",
       "      <td>-121.21</td>\n",
       "    </tr>\n",
       "    <tr>\n",
       "      <th>20637</th>\n",
       "      <td>1.7000</td>\n",
       "      <td>17.0</td>\n",
       "      <td>5.205543</td>\n",
       "      <td>1.120092</td>\n",
       "      <td>1007.0</td>\n",
       "      <td>2.325635</td>\n",
       "      <td>39.43</td>\n",
       "      <td>-121.22</td>\n",
       "    </tr>\n",
       "    <tr>\n",
       "      <th>20638</th>\n",
       "      <td>1.8672</td>\n",
       "      <td>18.0</td>\n",
       "      <td>5.329513</td>\n",
       "      <td>1.171920</td>\n",
       "      <td>741.0</td>\n",
       "      <td>2.123209</td>\n",
       "      <td>39.43</td>\n",
       "      <td>-121.32</td>\n",
       "    </tr>\n",
       "    <tr>\n",
       "      <th>20639</th>\n",
       "      <td>2.3886</td>\n",
       "      <td>16.0</td>\n",
       "      <td>5.254717</td>\n",
       "      <td>1.162264</td>\n",
       "      <td>1387.0</td>\n",
       "      <td>2.616981</td>\n",
       "      <td>39.37</td>\n",
       "      <td>-121.24</td>\n",
       "    </tr>\n",
       "  </tbody>\n",
       "</table>\n",
       "<p>20640 rows × 8 columns</p>\n",
       "</div>"
      ],
      "text/plain": [
       "            0     1         2         3       4         5      6       7\n",
       "0      8.3252  41.0  6.984127  1.023810   322.0  2.555556  37.88 -122.23\n",
       "1      8.3014  21.0  6.238137  0.971880  2401.0  2.109842  37.86 -122.22\n",
       "2      7.2574  52.0  8.288136  1.073446   496.0  2.802260  37.85 -122.24\n",
       "3      5.6431  52.0  5.817352  1.073059   558.0  2.547945  37.85 -122.25\n",
       "4      3.8462  52.0  6.281853  1.081081   565.0  2.181467  37.85 -122.25\n",
       "...       ...   ...       ...       ...     ...       ...    ...     ...\n",
       "20635  1.5603  25.0  5.045455  1.133333   845.0  2.560606  39.48 -121.09\n",
       "20636  2.5568  18.0  6.114035  1.315789   356.0  3.122807  39.49 -121.21\n",
       "20637  1.7000  17.0  5.205543  1.120092  1007.0  2.325635  39.43 -121.22\n",
       "20638  1.8672  18.0  5.329513  1.171920   741.0  2.123209  39.43 -121.32\n",
       "20639  2.3886  16.0  5.254717  1.162264  1387.0  2.616981  39.37 -121.24\n",
       "\n",
       "[20640 rows x 8 columns]"
      ]
     },
     "execution_count": 90,
     "metadata": {},
     "output_type": "execute_result"
    }
   ],
   "source": [
    "pd.DataFrame(housing.data)"
   ]
  },
  {
   "cell_type": "code",
   "execution_count": 88,
   "id": "53b2d839-b7bf-47ff-b4ef-5a3e65215870",
   "metadata": {},
   "outputs": [
    {
     "data": {
      "text/plain": [
       "['MedInc',\n",
       " 'HouseAge',\n",
       " 'AveRooms',\n",
       " 'AveBedrms',\n",
       " 'Population',\n",
       " 'AveOccup',\n",
       " 'Latitude',\n",
       " 'Longitude']"
      ]
     },
     "execution_count": 88,
     "metadata": {},
     "output_type": "execute_result"
    }
   ],
   "source": [
    "housing.feature_names"
   ]
  },
  {
   "cell_type": "code",
   "execution_count": 89,
   "id": "d9d960e7-f7d4-4c4b-841b-7472bb660363",
   "metadata": {},
   "outputs": [
    {
     "data": {
      "text/plain": [
       "array([4.526, 3.585, 3.521, ..., 0.923, 0.847, 0.894])"
      ]
     },
     "execution_count": 89,
     "metadata": {},
     "output_type": "execute_result"
    }
   ],
   "source": [
    "housing.target"
   ]
  },
  {
   "cell_type": "markdown",
   "id": "69344707-240e-4310-bde0-db6b95feda93",
   "metadata": {},
   "source": [
    "----------------"
   ]
  },
  {
   "cell_type": "code",
   "execution_count": 91,
   "id": "65b36623-9cf5-4c2e-a199-1788486dd3fc",
   "metadata": {},
   "outputs": [],
   "source": [
    "# load dataset\n",
    "house_price = fetch_california_housing()\n",
    "df = pd.DataFrame(house_price.data, columns=house_price.feature_names)\n",
    "df['PRICE'] = house_price.target"
   ]
  },
  {
   "cell_type": "raw",
   "id": "50cd61a2-e26a-45c8-9e5f-4158c0858e4a",
   "metadata": {},
   "source": [
    "* acaba scaleri test trainden önce yapmkakla, sonra yapmak arasında fark varmı birde scale mi standartcale mi?"
   ]
  },
  {
   "cell_type": "code",
   "execution_count": 92,
   "id": "51fb0688-3d9e-4f73-808d-9c729e5a146c",
   "metadata": {},
   "outputs": [],
   "source": [
    "# standardize and train/test split\n",
    "\n",
    "X_train, X_test, y_train, y_test = train_test_split(house_price.data, house_price.target, test_size=0.3, random_state=10)"
   ]
  },
  {
   "cell_type": "code",
   "execution_count": 98,
   "id": "3c60510c-a41f-4cee-8038-a73229adf1f2",
   "metadata": {},
   "outputs": [],
   "source": [
    "# scale\n",
    "\n",
    "scaler = StandardScaler().fit(X_train)\n",
    "X_train_scaled = scaler.transform(X_train)\n",
    "X_test_scaled = scaler.transform(X_test)"
   ]
  },
  {
   "cell_type": "code",
   "execution_count": 99,
   "id": "055f1c91-b0a0-492a-9005-53565bf897b3",
   "metadata": {},
   "outputs": [
    {
     "data": {
      "text/plain": [
       "(14448,)"
      ]
     },
     "execution_count": 99,
     "metadata": {},
     "output_type": "execute_result"
    }
   ],
   "source": [
    "X_train_scaled.shape\n",
    "y_train.shape"
   ]
  },
  {
   "cell_type": "code",
   "execution_count": 100,
   "id": "301a9a9f-dbdd-43d1-984a-6186218bf1e9",
   "metadata": {},
   "outputs": [],
   "source": [
    "ridge_reg = Ridge(alpha=0)\n",
    "\n",
    "ridge_reg.fit(X_train_scaled, y_train)\n",
    "\n",
    "ridge_df = pd.DataFrame({'variable': house_price.feature_names, 'estimate': ridge_reg.coef_})"
   ]
  },
  {
   "cell_type": "code",
   "execution_count": 101,
   "id": "a6c8f770-8a87-4f59-ac39-b5d2a990aecf",
   "metadata": {},
   "outputs": [
    {
     "data": {
      "text/html": [
       "<div>\n",
       "<style scoped>\n",
       "    .dataframe tbody tr th:only-of-type {\n",
       "        vertical-align: middle;\n",
       "    }\n",
       "\n",
       "    .dataframe tbody tr th {\n",
       "        vertical-align: top;\n",
       "    }\n",
       "\n",
       "    .dataframe thead th {\n",
       "        text-align: right;\n",
       "    }\n",
       "</style>\n",
       "<table border=\"1\" class=\"dataframe\">\n",
       "  <thead>\n",
       "    <tr style=\"text-align: right;\">\n",
       "      <th></th>\n",
       "      <th>variable</th>\n",
       "      <th>estimate</th>\n",
       "    </tr>\n",
       "  </thead>\n",
       "  <tbody>\n",
       "    <tr>\n",
       "      <th>0</th>\n",
       "      <td>MedInc</td>\n",
       "      <td>0.833295</td>\n",
       "    </tr>\n",
       "    <tr>\n",
       "      <th>1</th>\n",
       "      <td>HouseAge</td>\n",
       "      <td>0.122119</td>\n",
       "    </tr>\n",
       "    <tr>\n",
       "      <th>2</th>\n",
       "      <td>AveRooms</td>\n",
       "      <td>-0.280247</td>\n",
       "    </tr>\n",
       "    <tr>\n",
       "      <th>3</th>\n",
       "      <td>AveBedrms</td>\n",
       "      <td>0.336526</td>\n",
       "    </tr>\n",
       "    <tr>\n",
       "      <th>4</th>\n",
       "      <td>Population</td>\n",
       "      <td>0.001487</td>\n",
       "    </tr>\n",
       "    <tr>\n",
       "      <th>5</th>\n",
       "      <td>AveOccup</td>\n",
       "      <td>-0.028682</td>\n",
       "    </tr>\n",
       "    <tr>\n",
       "      <th>6</th>\n",
       "      <td>Latitude</td>\n",
       "      <td>-0.926595</td>\n",
       "    </tr>\n",
       "    <tr>\n",
       "      <th>7</th>\n",
       "      <td>Longitude</td>\n",
       "      <td>-0.892826</td>\n",
       "    </tr>\n",
       "  </tbody>\n",
       "</table>\n",
       "</div>"
      ],
      "text/plain": [
       "     variable  estimate\n",
       "0      MedInc  0.833295\n",
       "1    HouseAge  0.122119\n",
       "2    AveRooms -0.280247\n",
       "3   AveBedrms  0.336526\n",
       "4  Population  0.001487\n",
       "5    AveOccup -0.028682\n",
       "6    Latitude -0.926595\n",
       "7   Longitude -0.892826"
      ]
     },
     "execution_count": 101,
     "metadata": {},
     "output_type": "execute_result"
    }
   ],
   "source": [
    "ridge_df "
   ]
  },
  {
   "cell_type": "code",
   "execution_count": 161,
   "id": "19f7e47a-8d15-4d91-8f92-a99eddb2a846",
   "metadata": {},
   "outputs": [],
   "source": [
    "ridge_train_pred = []\n",
    "ridge_test_pred = []\n",
    "ridge_df_alpha = ridge_df.copy()\n",
    "\n",
    "# iterate lambdas\n",
    "for alpha in np.arange(0, 200, 1):\n",
    "    \n",
    "    # training\n",
    "    ridge_reg = Ridge(alpha=alpha)\n",
    "    ridge_reg.fit(X_train_scaled, y_train)\n",
    "    var_name = 'estimate' + str(alpha)\n",
    "    ridge_df_alpha[var_name] = ridge_reg.coef_\n",
    "    \n",
    "    ridge_train_pred.append(ridge_reg.predict(X_train_scaled))\n",
    "    ridge_test_pred.append(ridge_reg.predict(X_test_scaled))"
   ]
  },
  {
   "cell_type": "code",
   "execution_count": 155,
   "id": "3f7167b5-cda5-4b32-b66d-969626ce5b76",
   "metadata": {},
   "outputs": [
    {
     "data": {
      "text/html": [
       "<div>\n",
       "<style scoped>\n",
       "    .dataframe tbody tr th:only-of-type {\n",
       "        vertical-align: middle;\n",
       "    }\n",
       "\n",
       "    .dataframe tbody tr th {\n",
       "        vertical-align: top;\n",
       "    }\n",
       "\n",
       "    .dataframe thead th {\n",
       "        text-align: right;\n",
       "    }\n",
       "</style>\n",
       "<table border=\"1\" class=\"dataframe\">\n",
       "  <thead>\n",
       "    <tr style=\"text-align: right;\">\n",
       "      <th></th>\n",
       "      <th>variable</th>\n",
       "      <th>estimate</th>\n",
       "      <th>estimate0</th>\n",
       "      <th>estimate1</th>\n",
       "      <th>estimate2</th>\n",
       "      <th>estimate3</th>\n",
       "      <th>estimate4</th>\n",
       "      <th>estimate5</th>\n",
       "      <th>estimate6</th>\n",
       "      <th>estimate7</th>\n",
       "      <th>...</th>\n",
       "      <th>estimate190</th>\n",
       "      <th>estimate191</th>\n",
       "      <th>estimate192</th>\n",
       "      <th>estimate193</th>\n",
       "      <th>estimate194</th>\n",
       "      <th>estimate195</th>\n",
       "      <th>estimate196</th>\n",
       "      <th>estimate197</th>\n",
       "      <th>estimate198</th>\n",
       "      <th>estimate199</th>\n",
       "    </tr>\n",
       "  </thead>\n",
       "  <tbody>\n",
       "    <tr>\n",
       "      <th>0</th>\n",
       "      <td>MedInc</td>\n",
       "      <td>0.833295</td>\n",
       "      <td>0.833295</td>\n",
       "      <td>0.833248</td>\n",
       "      <td>0.833202</td>\n",
       "      <td>0.833155</td>\n",
       "      <td>0.833108</td>\n",
       "      <td>0.833061</td>\n",
       "      <td>0.833013</td>\n",
       "      <td>0.832965</td>\n",
       "      <td>...</td>\n",
       "      <td>0.821394</td>\n",
       "      <td>0.821321</td>\n",
       "      <td>0.821248</td>\n",
       "      <td>0.821175</td>\n",
       "      <td>0.821102</td>\n",
       "      <td>0.821029</td>\n",
       "      <td>0.820955</td>\n",
       "      <td>0.820882</td>\n",
       "      <td>0.820808</td>\n",
       "      <td>0.820735</td>\n",
       "    </tr>\n",
       "    <tr>\n",
       "      <th>1</th>\n",
       "      <td>HouseAge</td>\n",
       "      <td>0.122119</td>\n",
       "      <td>0.122119</td>\n",
       "      <td>0.122213</td>\n",
       "      <td>0.122307</td>\n",
       "      <td>0.122400</td>\n",
       "      <td>0.122494</td>\n",
       "      <td>0.122587</td>\n",
       "      <td>0.122680</td>\n",
       "      <td>0.122773</td>\n",
       "      <td>...</td>\n",
       "      <td>0.136303</td>\n",
       "      <td>0.136361</td>\n",
       "      <td>0.136419</td>\n",
       "      <td>0.136478</td>\n",
       "      <td>0.136536</td>\n",
       "      <td>0.136594</td>\n",
       "      <td>0.136651</td>\n",
       "      <td>0.136709</td>\n",
       "      <td>0.136767</td>\n",
       "      <td>0.136824</td>\n",
       "    </tr>\n",
       "    <tr>\n",
       "      <th>2</th>\n",
       "      <td>AveRooms</td>\n",
       "      <td>-0.280247</td>\n",
       "      <td>-0.280247</td>\n",
       "      <td>-0.280040</td>\n",
       "      <td>-0.279833</td>\n",
       "      <td>-0.279625</td>\n",
       "      <td>-0.279418</td>\n",
       "      <td>-0.279210</td>\n",
       "      <td>-0.279002</td>\n",
       "      <td>-0.278794</td>\n",
       "      <td>...</td>\n",
       "      <td>-0.240855</td>\n",
       "      <td>-0.240654</td>\n",
       "      <td>-0.240453</td>\n",
       "      <td>-0.240253</td>\n",
       "      <td>-0.240053</td>\n",
       "      <td>-0.239852</td>\n",
       "      <td>-0.239652</td>\n",
       "      <td>-0.239452</td>\n",
       "      <td>-0.239252</td>\n",
       "      <td>-0.239053</td>\n",
       "    </tr>\n",
       "    <tr>\n",
       "      <th>3</th>\n",
       "      <td>AveBedrms</td>\n",
       "      <td>0.336526</td>\n",
       "      <td>0.336526</td>\n",
       "      <td>0.336252</td>\n",
       "      <td>0.335977</td>\n",
       "      <td>0.335703</td>\n",
       "      <td>0.335428</td>\n",
       "      <td>0.335154</td>\n",
       "      <td>0.334880</td>\n",
       "      <td>0.334606</td>\n",
       "      <td>...</td>\n",
       "      <td>0.287214</td>\n",
       "      <td>0.286973</td>\n",
       "      <td>0.286733</td>\n",
       "      <td>0.286492</td>\n",
       "      <td>0.286252</td>\n",
       "      <td>0.286012</td>\n",
       "      <td>0.285772</td>\n",
       "      <td>0.285532</td>\n",
       "      <td>0.285292</td>\n",
       "      <td>0.285053</td>\n",
       "    </tr>\n",
       "    <tr>\n",
       "      <th>4</th>\n",
       "      <td>Population</td>\n",
       "      <td>0.001487</td>\n",
       "      <td>0.001487</td>\n",
       "      <td>0.001517</td>\n",
       "      <td>0.001548</td>\n",
       "      <td>0.001578</td>\n",
       "      <td>0.001608</td>\n",
       "      <td>0.001639</td>\n",
       "      <td>0.001669</td>\n",
       "      <td>0.001699</td>\n",
       "      <td>...</td>\n",
       "      <td>0.006061</td>\n",
       "      <td>0.006080</td>\n",
       "      <td>0.006099</td>\n",
       "      <td>0.006117</td>\n",
       "      <td>0.006136</td>\n",
       "      <td>0.006154</td>\n",
       "      <td>0.006173</td>\n",
       "      <td>0.006191</td>\n",
       "      <td>0.006210</td>\n",
       "      <td>0.006228</td>\n",
       "    </tr>\n",
       "    <tr>\n",
       "      <th>5</th>\n",
       "      <td>AveOccup</td>\n",
       "      <td>-0.028682</td>\n",
       "      <td>-0.028682</td>\n",
       "      <td>-0.028694</td>\n",
       "      <td>-0.028706</td>\n",
       "      <td>-0.028718</td>\n",
       "      <td>-0.028730</td>\n",
       "      <td>-0.028742</td>\n",
       "      <td>-0.028753</td>\n",
       "      <td>-0.028765</td>\n",
       "      <td>...</td>\n",
       "      <td>-0.030467</td>\n",
       "      <td>-0.030474</td>\n",
       "      <td>-0.030481</td>\n",
       "      <td>-0.030489</td>\n",
       "      <td>-0.030496</td>\n",
       "      <td>-0.030503</td>\n",
       "      <td>-0.030510</td>\n",
       "      <td>-0.030517</td>\n",
       "      <td>-0.030524</td>\n",
       "      <td>-0.030532</td>\n",
       "    </tr>\n",
       "    <tr>\n",
       "      <th>6</th>\n",
       "      <td>Latitude</td>\n",
       "      <td>-0.926595</td>\n",
       "      <td>-0.926595</td>\n",
       "      <td>-0.925667</td>\n",
       "      <td>-0.924741</td>\n",
       "      <td>-0.923817</td>\n",
       "      <td>-0.922895</td>\n",
       "      <td>-0.921975</td>\n",
       "      <td>-0.921057</td>\n",
       "      <td>-0.920142</td>\n",
       "      <td>...</td>\n",
       "      <td>-0.782049</td>\n",
       "      <td>-0.781425</td>\n",
       "      <td>-0.780803</td>\n",
       "      <td>-0.780181</td>\n",
       "      <td>-0.779561</td>\n",
       "      <td>-0.778942</td>\n",
       "      <td>-0.778324</td>\n",
       "      <td>-0.777707</td>\n",
       "      <td>-0.777091</td>\n",
       "      <td>-0.776477</td>\n",
       "    </tr>\n",
       "    <tr>\n",
       "      <th>7</th>\n",
       "      <td>Longitude</td>\n",
       "      <td>-0.892826</td>\n",
       "      <td>-0.892826</td>\n",
       "      <td>-0.891889</td>\n",
       "      <td>-0.890954</td>\n",
       "      <td>-0.890021</td>\n",
       "      <td>-0.889091</td>\n",
       "      <td>-0.888162</td>\n",
       "      <td>-0.887236</td>\n",
       "      <td>-0.886312</td>\n",
       "      <td>...</td>\n",
       "      <td>-0.746538</td>\n",
       "      <td>-0.745905</td>\n",
       "      <td>-0.745273</td>\n",
       "      <td>-0.744643</td>\n",
       "      <td>-0.744013</td>\n",
       "      <td>-0.743385</td>\n",
       "      <td>-0.742757</td>\n",
       "      <td>-0.742131</td>\n",
       "      <td>-0.741506</td>\n",
       "      <td>-0.740882</td>\n",
       "    </tr>\n",
       "  </tbody>\n",
       "</table>\n",
       "<p>8 rows × 202 columns</p>\n",
       "</div>"
      ],
      "text/plain": [
       "     variable  estimate  estimate0  estimate1  estimate2  estimate3  \\\n",
       "0      MedInc  0.833295   0.833295   0.833248   0.833202   0.833155   \n",
       "1    HouseAge  0.122119   0.122119   0.122213   0.122307   0.122400   \n",
       "2    AveRooms -0.280247  -0.280247  -0.280040  -0.279833  -0.279625   \n",
       "3   AveBedrms  0.336526   0.336526   0.336252   0.335977   0.335703   \n",
       "4  Population  0.001487   0.001487   0.001517   0.001548   0.001578   \n",
       "5    AveOccup -0.028682  -0.028682  -0.028694  -0.028706  -0.028718   \n",
       "6    Latitude -0.926595  -0.926595  -0.925667  -0.924741  -0.923817   \n",
       "7   Longitude -0.892826  -0.892826  -0.891889  -0.890954  -0.890021   \n",
       "\n",
       "   estimate4  estimate5  estimate6  estimate7  ...  estimate190  estimate191  \\\n",
       "0   0.833108   0.833061   0.833013   0.832965  ...     0.821394     0.821321   \n",
       "1   0.122494   0.122587   0.122680   0.122773  ...     0.136303     0.136361   \n",
       "2  -0.279418  -0.279210  -0.279002  -0.278794  ...    -0.240855    -0.240654   \n",
       "3   0.335428   0.335154   0.334880   0.334606  ...     0.287214     0.286973   \n",
       "4   0.001608   0.001639   0.001669   0.001699  ...     0.006061     0.006080   \n",
       "5  -0.028730  -0.028742  -0.028753  -0.028765  ...    -0.030467    -0.030474   \n",
       "6  -0.922895  -0.921975  -0.921057  -0.920142  ...    -0.782049    -0.781425   \n",
       "7  -0.889091  -0.888162  -0.887236  -0.886312  ...    -0.746538    -0.745905   \n",
       "\n",
       "   estimate192  estimate193  estimate194  estimate195  estimate196  \\\n",
       "0     0.821248     0.821175     0.821102     0.821029     0.820955   \n",
       "1     0.136419     0.136478     0.136536     0.136594     0.136651   \n",
       "2    -0.240453    -0.240253    -0.240053    -0.239852    -0.239652   \n",
       "3     0.286733     0.286492     0.286252     0.286012     0.285772   \n",
       "4     0.006099     0.006117     0.006136     0.006154     0.006173   \n",
       "5    -0.030481    -0.030489    -0.030496    -0.030503    -0.030510   \n",
       "6    -0.780803    -0.780181    -0.779561    -0.778942    -0.778324   \n",
       "7    -0.745273    -0.744643    -0.744013    -0.743385    -0.742757   \n",
       "\n",
       "   estimate197  estimate198  estimate199  \n",
       "0     0.820882     0.820808     0.820735  \n",
       "1     0.136709     0.136767     0.136824  \n",
       "2    -0.239452    -0.239252    -0.239053  \n",
       "3     0.285532     0.285292     0.285053  \n",
       "4     0.006191     0.006210     0.006228  \n",
       "5    -0.030517    -0.030524    -0.030532  \n",
       "6    -0.777707    -0.777091    -0.776477  \n",
       "7    -0.742131    -0.741506    -0.740882  \n",
       "\n",
       "[8 rows x 202 columns]"
      ]
     },
     "execution_count": 155,
     "metadata": {},
     "output_type": "execute_result"
    }
   ],
   "source": [
    "ridge_df_alpha"
   ]
  },
  {
   "cell_type": "code",
   "execution_count": 162,
   "id": "694b3e7a-776b-4cbb-b1c3-1235cb3052bc",
   "metadata": {},
   "outputs": [],
   "source": [
    "# organize dataframe\n",
    "\n",
    "ridge_df_alpha = ridge_df_alpha.set_index(\"variable\").T"
   ]
  },
  {
   "cell_type": "code",
   "execution_count": 165,
   "id": "2501c897-c673-47e3-886f-93e4c316bdde",
   "metadata": {},
   "outputs": [
    {
     "data": {
      "text/html": [
       "<div>\n",
       "<style scoped>\n",
       "    .dataframe tbody tr th:only-of-type {\n",
       "        vertical-align: middle;\n",
       "    }\n",
       "\n",
       "    .dataframe tbody tr th {\n",
       "        vertical-align: top;\n",
       "    }\n",
       "\n",
       "    .dataframe thead th {\n",
       "        text-align: right;\n",
       "    }\n",
       "</style>\n",
       "<table border=\"1\" class=\"dataframe\">\n",
       "  <thead>\n",
       "    <tr style=\"text-align: right;\">\n",
       "      <th>variable</th>\n",
       "      <th>MedInc</th>\n",
       "      <th>HouseAge</th>\n",
       "      <th>AveRooms</th>\n",
       "      <th>AveBedrms</th>\n",
       "      <th>Population</th>\n",
       "      <th>AveOccup</th>\n",
       "      <th>Latitude</th>\n",
       "      <th>Longitude</th>\n",
       "    </tr>\n",
       "  </thead>\n",
       "  <tbody>\n",
       "    <tr>\n",
       "      <th>0</th>\n",
       "      <td>0.833295</td>\n",
       "      <td>0.122119</td>\n",
       "      <td>-0.280247</td>\n",
       "      <td>0.336526</td>\n",
       "      <td>0.001487</td>\n",
       "      <td>-0.028682</td>\n",
       "      <td>-0.926595</td>\n",
       "      <td>-0.892826</td>\n",
       "    </tr>\n",
       "    <tr>\n",
       "      <th>1</th>\n",
       "      <td>0.833295</td>\n",
       "      <td>0.122119</td>\n",
       "      <td>-0.280247</td>\n",
       "      <td>0.336526</td>\n",
       "      <td>0.001487</td>\n",
       "      <td>-0.028682</td>\n",
       "      <td>-0.926595</td>\n",
       "      <td>-0.892826</td>\n",
       "    </tr>\n",
       "    <tr>\n",
       "      <th>2</th>\n",
       "      <td>0.833248</td>\n",
       "      <td>0.122213</td>\n",
       "      <td>-0.280040</td>\n",
       "      <td>0.336252</td>\n",
       "      <td>0.001517</td>\n",
       "      <td>-0.028694</td>\n",
       "      <td>-0.925667</td>\n",
       "      <td>-0.891889</td>\n",
       "    </tr>\n",
       "    <tr>\n",
       "      <th>3</th>\n",
       "      <td>0.833202</td>\n",
       "      <td>0.122307</td>\n",
       "      <td>-0.279833</td>\n",
       "      <td>0.335977</td>\n",
       "      <td>0.001548</td>\n",
       "      <td>-0.028706</td>\n",
       "      <td>-0.924741</td>\n",
       "      <td>-0.890954</td>\n",
       "    </tr>\n",
       "    <tr>\n",
       "      <th>4</th>\n",
       "      <td>0.833155</td>\n",
       "      <td>0.122400</td>\n",
       "      <td>-0.279625</td>\n",
       "      <td>0.335703</td>\n",
       "      <td>0.001578</td>\n",
       "      <td>-0.028718</td>\n",
       "      <td>-0.923817</td>\n",
       "      <td>-0.890021</td>\n",
       "    </tr>\n",
       "    <tr>\n",
       "      <th>...</th>\n",
       "      <td>...</td>\n",
       "      <td>...</td>\n",
       "      <td>...</td>\n",
       "      <td>...</td>\n",
       "      <td>...</td>\n",
       "      <td>...</td>\n",
       "      <td>...</td>\n",
       "      <td>...</td>\n",
       "    </tr>\n",
       "    <tr>\n",
       "      <th>196</th>\n",
       "      <td>0.821029</td>\n",
       "      <td>0.136594</td>\n",
       "      <td>-0.239852</td>\n",
       "      <td>0.286012</td>\n",
       "      <td>0.006154</td>\n",
       "      <td>-0.030503</td>\n",
       "      <td>-0.778942</td>\n",
       "      <td>-0.743385</td>\n",
       "    </tr>\n",
       "    <tr>\n",
       "      <th>197</th>\n",
       "      <td>0.820955</td>\n",
       "      <td>0.136651</td>\n",
       "      <td>-0.239652</td>\n",
       "      <td>0.285772</td>\n",
       "      <td>0.006173</td>\n",
       "      <td>-0.030510</td>\n",
       "      <td>-0.778324</td>\n",
       "      <td>-0.742757</td>\n",
       "    </tr>\n",
       "    <tr>\n",
       "      <th>198</th>\n",
       "      <td>0.820882</td>\n",
       "      <td>0.136709</td>\n",
       "      <td>-0.239452</td>\n",
       "      <td>0.285532</td>\n",
       "      <td>0.006191</td>\n",
       "      <td>-0.030517</td>\n",
       "      <td>-0.777707</td>\n",
       "      <td>-0.742131</td>\n",
       "    </tr>\n",
       "    <tr>\n",
       "      <th>199</th>\n",
       "      <td>0.820808</td>\n",
       "      <td>0.136767</td>\n",
       "      <td>-0.239252</td>\n",
       "      <td>0.285292</td>\n",
       "      <td>0.006210</td>\n",
       "      <td>-0.030524</td>\n",
       "      <td>-0.777091</td>\n",
       "      <td>-0.741506</td>\n",
       "    </tr>\n",
       "    <tr>\n",
       "      <th>200</th>\n",
       "      <td>0.820735</td>\n",
       "      <td>0.136824</td>\n",
       "      <td>-0.239053</td>\n",
       "      <td>0.285053</td>\n",
       "      <td>0.006228</td>\n",
       "      <td>-0.030532</td>\n",
       "      <td>-0.776477</td>\n",
       "      <td>-0.740882</td>\n",
       "    </tr>\n",
       "  </tbody>\n",
       "</table>\n",
       "<p>201 rows × 8 columns</p>\n",
       "</div>"
      ],
      "text/plain": [
       "variable    MedInc  HouseAge  AveRooms  AveBedrms  Population  AveOccup  \\\n",
       "0         0.833295  0.122119 -0.280247   0.336526    0.001487 -0.028682   \n",
       "1         0.833295  0.122119 -0.280247   0.336526    0.001487 -0.028682   \n",
       "2         0.833248  0.122213 -0.280040   0.336252    0.001517 -0.028694   \n",
       "3         0.833202  0.122307 -0.279833   0.335977    0.001548 -0.028706   \n",
       "4         0.833155  0.122400 -0.279625   0.335703    0.001578 -0.028718   \n",
       "..             ...       ...       ...        ...         ...       ...   \n",
       "196       0.821029  0.136594 -0.239852   0.286012    0.006154 -0.030503   \n",
       "197       0.820955  0.136651 -0.239652   0.285772    0.006173 -0.030510   \n",
       "198       0.820882  0.136709 -0.239452   0.285532    0.006191 -0.030517   \n",
       "199       0.820808  0.136767 -0.239252   0.285292    0.006210 -0.030524   \n",
       "200       0.820735  0.136824 -0.239053   0.285053    0.006228 -0.030532   \n",
       "\n",
       "variable  Latitude  Longitude  \n",
       "0        -0.926595  -0.892826  \n",
       "1        -0.926595  -0.892826  \n",
       "2        -0.925667  -0.891889  \n",
       "3        -0.924741  -0.890954  \n",
       "4        -0.923817  -0.890021  \n",
       "..             ...        ...  \n",
       "196      -0.778942  -0.743385  \n",
       "197      -0.778324  -0.742757  \n",
       "198      -0.777707  -0.742131  \n",
       "199      -0.777091  -0.741506  \n",
       "200      -0.776477  -0.740882  \n",
       "\n",
       "[201 rows x 8 columns]"
      ]
     },
     "execution_count": 165,
     "metadata": {},
     "output_type": "execute_result"
    }
   ],
   "source": [
    "ridge_df_alpha.reset_index().drop([\"index\"],axis = 1)"
   ]
  },
  {
   "cell_type": "code",
   "execution_count": null,
   "id": "2b01b8a4-9ce4-4f4a-983a-4a72ab599943",
   "metadata": {},
   "outputs": [],
   "source": []
  }
 ],
 "metadata": {
  "kernelspec": {
   "display_name": "Python 3 (ipykernel)",
   "language": "python",
   "name": "python3"
  },
  "language_info": {
   "codemirror_mode": {
    "name": "ipython",
    "version": 3
   },
   "file_extension": ".py",
   "mimetype": "text/x-python",
   "name": "python",
   "nbconvert_exporter": "python",
   "pygments_lexer": "ipython3",
   "version": "3.9.7"
  }
 },
 "nbformat": 4,
 "nbformat_minor": 5
}
